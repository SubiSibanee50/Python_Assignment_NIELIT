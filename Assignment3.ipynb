{
 "cells": [
  {
   "cell_type": "code",
   "execution_count": 27,
   "id": "f9c73d7d",
   "metadata": {},
   "outputs": [
    {
     "name": "stdout",
     "output_type": "stream",
     "text": [
      "Alice 25\n"
     ]
    }
   ],
   "source": [
    "# 1. Create a simple class Person with name and age as attributes.\n",
    "class Person:\n",
    "    def __init__(self, name, age):\n",
    "        self.name = name\n",
    "        self.age = age\n",
    "\n",
    "p1 = Person(\"Alice\", 25)\n",
    "print(p1.name, p1.age)"
   ]
  },
  {
   "cell_type": "code",
   "execution_count": 28,
   "id": "089dc4d8",
   "metadata": {},
   "outputs": [
    {
     "name": "stdout",
     "output_type": "stream",
     "text": [
      "Hello, I am Bob and I am 30 years old.\n"
     ]
    }
   ],
   "source": [
    "# 2. Add a method to the Person class that prints a greeting.\n",
    "class Person:\n",
    "    def __init__(self, name, age):\n",
    "        self.name = name\n",
    "        self.age = age\n",
    "\n",
    "    def greet(self):\n",
    "        print(f\"Hello, I am {self.name} and I am {self.age} years old.\")\n",
    "\n",
    "p2 = Person(\"Bob\", 30)\n",
    "p2.greet()"
   ]
  },
  {
   "cell_type": "code",
   "execution_count": 29,
   "id": "c70c0496",
   "metadata": {},
   "outputs": [
    {
     "name": "stdout",
     "output_type": "stream",
     "text": [
      "Class Variable\n",
      "Instance 1\n"
     ]
    }
   ],
   "source": [
    "# 3. Create a class with a class variable and instance variable.\n",
    "class Example:\n",
    "    class_var = \"Class Variable\"\n",
    "\n",
    "    def __init__(self, value):\n",
    "        self.instance_var = value\n",
    "\n",
    "e1 = Example(\"Instance 1\")\n",
    "print(Example.class_var)\n",
    "print(e1.instance_var)"
   ]
  },
  {
   "cell_type": "code",
   "execution_count": 30,
   "id": "c1221fc9",
   "metadata": {},
   "outputs": [
    {
     "name": "stdout",
     "output_type": "stream",
     "text": [
      "Hidden\n"
     ]
    }
   ],
   "source": [
    "# 4. Create a private attribute in a class and access it using a method.\n",
    "class PrivateDemo:\n",
    "    def __init__(self):\n",
    "        self.__secret = \"Hidden\"\n",
    "\n",
    "    def reveal(self):\n",
    "        return self.__secret\n",
    "\n",
    "pd = PrivateDemo()\n",
    "print(pd.reveal())"
   ]
  },
  {
   "cell_type": "code",
   "execution_count": 26,
   "id": "babe430b",
   "metadata": {},
   "outputs": [
    {
     "name": "stdout",
     "output_type": "stream",
     "text": [
      "36\n"
     ]
    }
   ],
   "source": [
    "# 5. Create a class with a method that returns the square of a number.\n",
    "class SquareCalc:\n",
    "    def square(self, n):\n",
    "        return n * n\n",
    "\n",
    "sc = SquareCalc()\n",
    "print(sc.square(6))"
   ]
  },
  {
   "cell_type": "code",
   "execution_count": 31,
   "id": "1395c044",
   "metadata": {},
   "outputs": [
    {
     "name": "stdout",
     "output_type": "stream",
     "text": [
      "Hi, I'm Alice and I'm 30 years old.\n",
      "Hi, I'm Bob and I'm 25 years old.\n",
      "Alice's new age: 31\n",
      "Bob's age remains: 25\n"
     ]
    }
   ],
   "source": [
    "# 6. Create two objects of a class and demonstrate that they are independent.\n",
    "class Person:\n",
    "    def __init__(self, name, age):\n",
    "        self.name = name\n",
    "        self.age = age\n",
    "\n",
    "    def greet(self):\n",
    "        print(f\"Hi, I'm {self.name} and I'm {self.age} years old.\")\n",
    "\n",
    "person1 = Person(\"Alice\", 30)\n",
    "person2 = Person(\"Bob\", 25)\n",
    "\n",
    "person1.greet()  \n",
    "person2.greet() \n",
    "\n",
    "person1.age = 31\n",
    "\n",
    "print(f\"{person1.name}'s new age: {person1.age}\")  \n",
    "print(f\"{person2.name}'s age remains: {person2.age}\")  \n"
   ]
  },
  {
   "cell_type": "code",
   "execution_count": 24,
   "id": "06c2424a",
   "metadata": {},
   "outputs": [
    {
     "name": "stdout",
     "output_type": "stream",
     "text": [
      "Brand: Toyota, Model: Camry\n"
     ]
    }
   ],
   "source": [
    "# 7. Create a class and use a method to set its attributes.\n",
    "class Car:\n",
    "    def set_details(self, brand, model):\n",
    "        self.brand = brand\n",
    "        self.model = model\n",
    "\n",
    "    def display(self):\n",
    "        print(f\"Brand: {self.brand}, Model: {self.model}\")\n",
    "\n",
    "c1 = Car()\n",
    "c1.set_details(\"Toyota\", \"Camry\")\n",
    "c1.display()"
   ]
  },
  {
   "cell_type": "code",
   "execution_count": 32,
   "id": "28d95912",
   "metadata": {},
   "outputs": [
    {
     "name": "stdout",
     "output_type": "stream",
     "text": [
      "True\n",
      "False\n"
     ]
    }
   ],
   "source": [
    "# 8. Demonstrate use of isinstance() with a class.\n",
    "class Animal:\n",
    "    def __init__(self, name):\n",
    "        self.name = name\n",
    "\n",
    "dog = Animal(\"Buddy\")\n",
    "\n",
    "print(isinstance(dog, Animal))  \n",
    "\n",
    "print(isinstance(dog, str))   \n"
   ]
  },
  {
   "cell_type": "code",
   "execution_count": 33,
   "id": "0d6b41cb",
   "metadata": {},
   "outputs": [
    {
     "name": "stdout",
     "output_type": "stream",
     "text": [
      "Animal sound\n"
     ]
    }
   ],
   "source": [
    "# 9. Demonstrate single inheritance in Python.\n",
    "class Animal:\n",
    "    def speak(self):\n",
    "        print(\"Animal sound\")\n",
    "\n",
    "class Dog(Animal):\n",
    "    pass\n",
    "\n",
    "d = Dog()\n",
    "d.speak()"
   ]
  },
  {
   "cell_type": "code",
   "execution_count": 21,
   "id": "8e3cba9a",
   "metadata": {},
   "outputs": [
    {
     "name": "stdout",
     "output_type": "stream",
     "text": [
      "I am grandparent\n",
      "I am parent\n",
      "I am child\n"
     ]
    }
   ],
   "source": [
    "# 10. Create a base class and derive two child classes with different methods (multi-level inheritance).\n",
    "class Grandparent:\n",
    "    def say_gp(self):\n",
    "        print(\"I am grandparent\")\n",
    "\n",
    "class Parent(Grandparent):\n",
    "    def say_p(self):\n",
    "        print(\"I am parent\")\n",
    "\n",
    "class Child(Parent):\n",
    "    def say_c(self):\n",
    "        print(\"I am child\")\n",
    "\n",
    "child = Child()\n",
    "child.say_gp()\n",
    "child.say_p()\n",
    "child.say_c()\n"
   ]
  },
  {
   "cell_type": "code",
   "execution_count": 20,
   "id": "6f4dc4ee",
   "metadata": {},
   "outputs": [
    {
     "name": "stdout",
     "output_type": "stream",
     "text": [
      "Tweet\n"
     ]
    }
   ],
   "source": [
    "# 11. Demonstrate method overriding in inheritance.\n",
    "class Bird:\n",
    "    def sound(self):\n",
    "        print(\"Chirp\")\n",
    "\n",
    "class Sparrow(Bird):\n",
    "    def sound(self):\n",
    "        print(\"Tweet\")\n",
    "\n",
    "b = Sparrow()\n",
    "b.sound()"
   ]
  },
  {
   "cell_type": "code",
   "execution_count": 18,
   "id": "e2a333fd",
   "metadata": {},
   "outputs": [
    {
     "name": "stdout",
     "output_type": "stream",
     "text": [
      "Base class\n",
      "Derived class\n"
     ]
    }
   ],
   "source": [
    "# 12. Use super() to call a parent class method.\n",
    "class Base:\n",
    "    def show(self):\n",
    "        print(\"Base class\")\n",
    "\n",
    "class Derived(Base):\n",
    "    def show(self):\n",
    "        super().show()\n",
    "        print(\"Derived class\")\n",
    "\n",
    "d = Derived()\n",
    "d.show()"
   ]
  },
  {
   "cell_type": "code",
   "execution_count": 17,
   "id": "cb2a0128",
   "metadata": {},
   "outputs": [
    {
     "name": "stdout",
     "output_type": "stream",
     "text": [
      "50.24\n"
     ]
    }
   ],
   "source": [
    "# 13. Create an abstract base class using abc module.\n",
    "from abc import ABC, abstractmethod\n",
    "\n",
    "class Shape(ABC):\n",
    "    @abstractmethod\n",
    "    def area(self):\n",
    "        pass\n",
    "\n",
    "class Circle(Shape):\n",
    "    def area(self):\n",
    "        return 3.14 * 4 * 4\n",
    "\n",
    "c = Circle()\n",
    "print(c.area())\n"
   ]
  },
  {
   "cell_type": "code",
   "execution_count": 16,
   "id": "08225872",
   "metadata": {},
   "outputs": [
    {
     "name": "stdout",
     "output_type": "stream",
     "text": [
      "Engineer\n",
      "Chef\n"
     ]
    }
   ],
   "source": [
    "# 14. Demonstrate multiple inheritance in Python.\n",
    "class Father:\n",
    "    def work(self):\n",
    "        print(\"Engineer\")\n",
    "\n",
    "class Mother:\n",
    "    def cook(self):\n",
    "        print(\"Chef\")\n",
    "\n",
    "class Child(Father, Mother):\n",
    "    pass\n",
    "\n",
    "ch = Child()\n",
    "ch.work()\n",
    "ch.cook()"
   ]
  },
  {
   "cell_type": "code",
   "execution_count": 15,
   "id": "dafb9572",
   "metadata": {},
   "outputs": [
    {
     "name": "stdout",
     "output_type": "stream",
     "text": [
      "90\n"
     ]
    }
   ],
   "source": [
    "# 15. Demonstrate encapsulation using getter and setter.\n",
    "class Student:\n",
    "    def _init_(self):\n",
    "        self.__grade = None\n",
    "\n",
    "    def set_grade(self, g):\n",
    "        self.__grade = g\n",
    "\n",
    "    def get_grade(self):\n",
    "        return self.__grade\n",
    "\n",
    "s = Student()\n",
    "s.set_grade(90)\n",
    "print(s.get_grade())"
   ]
  },
  {
   "cell_type": "code",
   "execution_count": 14,
   "id": "2baa54dd",
   "metadata": {},
   "outputs": [
    {
     "name": "stdout",
     "output_type": "stream",
     "text": [
      "Meow\n",
      "Bark\n"
     ]
    }
   ],
   "source": [
    "# 16. Write a program to demonstrate polymorphism with a common method.\n",
    "class Cat:\n",
    "    def speak(self):\n",
    "        print(\"Meow\")\n",
    "\n",
    "class Dog:\n",
    "    def speak(self):\n",
    "        print(\"Bark\")\n",
    "\n",
    "def call_speak(animal):\n",
    "    animal.speak()\n",
    "\n",
    "call_speak(Cat())\n",
    "call_speak(Dog())"
   ]
  },
  {
   "cell_type": "code",
   "execution_count": 34,
   "id": "37a74b95",
   "metadata": {},
   "outputs": [
    {
     "name": "stdout",
     "output_type": "stream",
     "text": [
      "Total Employees: 2\n"
     ]
    }
   ],
   "source": [
    "# 17. Create a class Employee with a method to display the number of employees created.\n",
    "class Employee:\n",
    "    count = 0\n",
    "\n",
    "    def __init__(self):\n",
    "        Employee.count += 1\n",
    "\n",
    "    @staticmethod\n",
    "    def show_count():\n",
    "        print(f\"Total Employees: {Employee.count}\")\n",
    "\n",
    "e1 = Employee()\n",
    "e2 = Employee()\n",
    "Employee.show_count()"
   ]
  },
  {
   "cell_type": "code",
   "execution_count": 35,
   "id": "14010ae4",
   "metadata": {},
   "outputs": [
    {
     "name": "stdout",
     "output_type": "stream",
     "text": [
      "No arguments\n",
      "x=5\n",
      "x=5, y=10\n"
     ]
    },
    {
     "data": {
      "text/plain": [
       "<__main__.Demo at 0x2abdcfefaa0>"
      ]
     },
     "execution_count": 35,
     "metadata": {},
     "output_type": "execute_result"
    }
   ],
   "source": [
    "# 18. Demonstrate constructor overloading using default arguments.\n",
    "class Demo:\n",
    "    def __init__(self, x=None, y=None):\n",
    "        if x is not None and y is not None:\n",
    "            print(f\"x={x}, y={y}\")\n",
    "        elif x is not None:\n",
    "            print(f\"x={x}\")\n",
    "        else:\n",
    "            print(\"No arguments\")\n",
    "\n",
    "Demo()\n",
    "Demo(5)\n",
    "Demo(5, 10)"
   ]
  },
  {
   "cell_type": "code",
   "execution_count": 36,
   "id": "cb85435f",
   "metadata": {},
   "outputs": [
    {
     "name": "stdout",
     "output_type": "stream",
     "text": [
      "Deposited: 1000\n",
      "Withdrew: 500\n",
      "Balance: 500\n"
     ]
    }
   ],
   "source": [
    "# 19. Implement a bank account system with deposit and withdrawal methods.\n",
    "class BankAccount:\n",
    "    def __init__(self):\n",
    "        self.balance = 0\n",
    "\n",
    "    def deposit(self, amount):\n",
    "        self.balance += amount\n",
    "        print(f\"Deposited: {amount}\")\n",
    "\n",
    "    def withdraw(self, amount):\n",
    "        if amount <= self.balance:\n",
    "            self.balance -= amount\n",
    "            print(f\"Withdrew: {amount}\")\n",
    "        else:\n",
    "            print(\"Insufficient balance\")\n",
    "\n",
    "    def show_balance(self):\n",
    "        print(f\"Balance: {self.balance}\")\n",
    "\n",
    "acc = BankAccount()\n",
    "acc.deposit(1000)\n",
    "acc.withdraw(500)\n",
    "acc.show_balance()"
   ]
  },
  {
   "cell_type": "code",
   "execution_count": 37,
   "id": "c05f818b",
   "metadata": {},
   "outputs": [
    {
     "name": "stdout",
     "output_type": "stream",
     "text": [
      "Area: 50\n",
      "Perimeter: 30\n"
     ]
    }
   ],
   "source": [
    "# 20. Create a class Rectangle with method to calculate area and perimeter.\n",
    "class Rectangle:\n",
    "    def __init__(self, l, w):\n",
    "        self.length = l\n",
    "        self.width = w\n",
    "\n",
    "    def area(self):\n",
    "        return self.length * self.width\n",
    "\n",
    "    def perimeter(self):\n",
    "        return 2 * (self.length + self.width)\n",
    "\n",
    "rect = Rectangle(10, 5)\n",
    "print(\"Area:\", rect.area())\n",
    "print(\"Perimeter:\", rect.perimeter())"
   ]
  }
 ],
 "metadata": {
  "kernelspec": {
   "display_name": "base",
   "language": "python",
   "name": "python3"
  },
  "language_info": {
   "codemirror_mode": {
    "name": "ipython",
    "version": 3
   },
   "file_extension": ".py",
   "mimetype": "text/x-python",
   "name": "python",
   "nbconvert_exporter": "python",
   "pygments_lexer": "ipython3",
   "version": "3.12.7"
  }
 },
 "nbformat": 4,
 "nbformat_minor": 5
}
