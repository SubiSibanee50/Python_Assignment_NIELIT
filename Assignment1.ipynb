{
 "cells": [
  {
   "cell_type": "code",
   "execution_count": 1,
   "id": "a9afb010-4995-4f51-81ca-7563f1a5805a",
   "metadata": {},
   "outputs": [
    {
     "name": "stdout",
     "output_type": "stream",
     "text": [
      "Hello World\n"
     ]
    }
   ],
   "source": [
    "print(\"Hello World\")\n"
   ]
  },
  {
   "cell_type": "code",
   "execution_count": 2,
   "id": "a7b8eaee-dec3-4a8b-b897-d42159bd0728",
   "metadata": {},
   "outputs": [],
   "source": [
    "square=lambda x:x*x"
   ]
  },
  {
   "cell_type": "code",
   "execution_count": 4,
   "id": "b0a06342-cc2f-48c1-8164-066914d3e266",
   "metadata": {},
   "outputs": [
    {
     "name": "stdout",
     "output_type": "stream",
     "text": [
      "25\n"
     ]
    }
   ],
   "source": [
    "x=5\n",
    "square=lambda x:x*x\n",
    "print(square(x))"
   ]
  },
  {
   "cell_type": "code",
   "execution_count": 11,
   "id": "0f1183e7-6d41-4ad0-ae41-9b6ad914a859",
   "metadata": {},
   "outputs": [
    {
     "name": "stdout",
     "output_type": "stream",
     "text": [
      "k\n",
      "n\n",
      "o\n",
      "w\n",
      "l\n",
      "e\n",
      "d\n",
      "g\n",
      "e\n",
      "The for loop stopped executing\n"
     ]
    }
   ],
   "source": [
    "text=\"knowledgehut\"\n",
    "for letter in text:\n",
    "    if letter=='h':\n",
    "        break\n",
    "    print(letter)\n",
    "print(\"The for loop stopped executing\")"
   ]
  },
  {
   "cell_type": "code",
   "execution_count": 12,
   "id": "6128fe79-7e0a-46db-a59e-c07cc09177ff",
   "metadata": {},
   "outputs": [
    {
     "name": "stdout",
     "output_type": "stream",
     "text": [
      "k\n",
      "n\n",
      "o\n",
      "w\n",
      "l\n",
      "e\n",
      "d\n",
      "g\n",
      "e\n",
      " The Loop skipped the space \n",
      "h\n",
      "u\n",
      "t\n",
      "The for loop stopped executing\n"
     ]
    }
   ],
   "source": [
    "text=\"knowledge hut\"\n",
    "for letter in text:\n",
    "    if letter==' ':\n",
    "        print(\" The Loop skipped the space \")\n",
    "        continue\n",
    "    print(letter)\n",
    "print(\"The for loop stopped executing\")"
   ]
  },
  {
   "cell_type": "code",
   "execution_count": 14,
   "id": "def79858-672a-496b-a579-faf616ab9275",
   "metadata": {},
   "outputs": [
    {
     "name": "stdin",
     "output_type": "stream",
     "text": [
      "Enter number of levels :  5\n"
     ]
    },
    {
     "name": "stdout",
     "output_type": "stream",
     "text": [
      "1 \n",
      "\n",
      "2 2 \n",
      "\n",
      "3 3 3 \n",
      "\n",
      "4 4 4 4 \n",
      "\n",
      "5 5 5 5 5 \n",
      "\n"
     ]
    }
   ],
   "source": [
    "level=int(input(\"Enter number of levels : \"))\n",
    "for level in range(1,level+1):\n",
    "    for num in range(level):\n",
    "        print(level,end=\" \")\n",
    "    print(\"\\n\")"
   ]
  },
  {
   "cell_type": "code",
   "execution_count": 16,
   "id": "3d20a116-f639-4cc5-afe7-115dff44fe77",
   "metadata": {},
   "outputs": [
    {
     "name": "stdin",
     "output_type": "stream",
     "text": [
      "Enter your name :  Sudha\n"
     ]
    },
    {
     "name": "stdout",
     "output_type": "stream",
     "text": [
      "Hii!!! \n",
      "Good Morning  Sudha\n"
     ]
    }
   ],
   "source": [
    "name=input(\"Enter your name : \")\n",
    "print(\"Hii!!! \\nGood Morning \",name)"
   ]
  },
  {
   "cell_type": "code",
   "execution_count": 17,
   "id": "c0fb0537-0c94-4b02-b4c7-d1159e069c48",
   "metadata": {},
   "outputs": [
    {
     "name": "stdout",
     "output_type": "stream",
     "text": [
      "Hello Alice\n"
     ]
    }
   ],
   "source": [
    "def greet(name):\n",
    "    print(\"Hello\",name)\n",
    "\n",
    "greet(\"Alice\")"
   ]
  },
  {
   "cell_type": "code",
   "execution_count": 19,
   "id": "476fd473-c36b-4636-9ecb-a163d351d012",
   "metadata": {},
   "outputs": [
    {
     "name": "stdout",
     "output_type": "stream",
     "text": [
      "1\n",
      "2\n",
      "3\n",
      "4\n",
      "5\n",
      "6\n",
      "7\n",
      "8\n",
      "9\n",
      "10\n"
     ]
    }
   ],
   "source": [
    "#1:Print numbers from 1 to 10..\n",
    "for i in range (1,11):\n",
    "    print(i)"
   ]
  },
  {
   "cell_type": "code",
   "execution_count": 20,
   "id": "2fcc89d9-e8e5-4cde-82e3-70ddae2d7d43",
   "metadata": {},
   "outputs": [
    {
     "name": "stdout",
     "output_type": "stream",
     "text": [
      "2\n",
      "4\n",
      "6\n",
      "8\n",
      "10\n",
      "12\n",
      "14\n",
      "16\n",
      "18\n",
      "20\n"
     ]
    }
   ],
   "source": [
    "#2:Print even numbers from 1 to 20..\n",
    "for i in range(1,21):\n",
    "    if(i%2==0):\n",
    "        print(i)"
   ]
  },
  {
   "cell_type": "code",
   "execution_count": 3,
   "id": "c9d98bac-e7a5-4f6f-84db-e338ae1599f9",
   "metadata": {},
   "outputs": [
    {
     "name": "stdin",
     "output_type": "stream",
     "text": [
      "Enter a number :  0\n"
     ]
    },
    {
     "name": "stdout",
     "output_type": "stream",
     "text": [
      "The number is zero\n"
     ]
    }
   ],
   "source": [
    "#3:Check if a number is positive ,negative or zero..\n",
    "number=int(input(\"Enter a number : \"))\n",
    "if(number==0):\n",
    "    print(\"The number is zero\")\n",
    "elif(number>0):\n",
    "    print(\"This is a positive number\")\n",
    "else:\n",
    "    print(\"This is a negative number\")\n",
    "    "
   ]
  },
  {
   "cell_type": "code",
   "execution_count": 4,
   "id": "87d8f13b-aa82-41b1-b976-5d321d2b46db",
   "metadata": {},
   "outputs": [
    {
     "name": "stdin",
     "output_type": "stream",
     "text": [
      "Enter the first number 2\n",
      "Enter the second number 3\n"
     ]
    },
    {
     "name": "stdout",
     "output_type": "stream",
     "text": [
      "Addition is :  5\n"
     ]
    }
   ],
   "source": [
    "#4:Add two numbers using operators..\n",
    "num1=int(input(\"Enter the first number\"))\n",
    "num2=int(input(\"Enter the second number\"))\n",
    "print(\"Addition is : \",num1+num2)"
   ]
  },
  {
   "cell_type": "code",
   "execution_count": 8,
   "id": "10ede016-21a9-4079-a1e0-b6f3bd78554d",
   "metadata": {},
   "outputs": [
    {
     "name": "stdin",
     "output_type": "stream",
     "text": [
      "Enter a number :  5\n"
     ]
    },
    {
     "name": "stdout",
     "output_type": "stream",
     "text": [
      "The multiplication table of  5  is \n",
      "\n",
      "1 * 5 = 5\n",
      "2 * 5 = 10\n",
      "3 * 5 = 15\n",
      "4 * 5 = 20\n",
      "5 * 5 = 25\n",
      "6 * 5 = 30\n",
      "7 * 5 = 35\n",
      "8 * 5 = 40\n",
      "9 * 5 = 45\n",
      "10 * 5 = 50\n"
     ]
    }
   ],
   "source": [
    "#5:Print multiplication table of a number..\n",
    "n=int(input(\"Enter a number : \"))\n",
    "print(\"The multiplication table of \",n,\" is \\n\")\n",
    "for i in range(1,11):\n",
    "    print(i,\"*\",n,\"=\",i*n) "
   ]
  },
  {
   "cell_type": "code",
   "execution_count": 1,
   "id": "e2cc5c36-ba36-426b-bf07-16441579916b",
   "metadata": {},
   "outputs": [
    {
     "name": "stdin",
     "output_type": "stream",
     "text": [
      "Enter the first number 23\n",
      "Enter the second number 32\n"
     ]
    },
    {
     "name": "stdout",
     "output_type": "stream",
     "text": [
      "32  is greater than  23\n"
     ]
    }
   ],
   "source": [
    "#6:Find the largest among two numbers..\n",
    "num1=int(input(\"Enter the first number\"))\n",
    "num2=int(input(\"Enter the second number\"))\n",
    "if(num1>num2):\n",
    "    print(num1,\" is greater than \",num2)\n",
    "else:\n",
    "     print(num2,\" is greater than \",num1)"
   ]
  },
  {
   "cell_type": "code",
   "execution_count": 1,
   "id": "66326e0c-8042-44bf-bd4e-407e4e372f12",
   "metadata": {},
   "outputs": [
    {
     "name": "stdout",
     "output_type": "stream",
     "text": [
      "5\n",
      "4\n",
      "3\n",
      "2\n",
      "1\n"
     ]
    }
   ],
   "source": [
    "#7:Use a while loop to print numbers 5 to 1.. \n",
    "n=5\n",
    "while n>=1:\n",
    "    print(n)\n",
    "    n-=1"
   ]
  },
  {
   "cell_type": "code",
   "execution_count": 4,
   "id": "da99ac2f-bcd4-42fd-ae8a-b6ea7f3f9297",
   "metadata": {},
   "outputs": [
    {
     "name": "stdin",
     "output_type": "stream",
     "text": [
      "Enter a string subi sibanee\n"
     ]
    },
    {
     "name": "stdout",
     "output_type": "stream",
     "text": [
      "s\n",
      "u\n",
      "b\n",
      "i\n",
      " \n",
      "s\n",
      "i\n",
      "b\n",
      "a\n",
      "n\n",
      "e\n",
      "e\n"
     ]
    }
   ],
   "source": [
    "#8:Print all characters in a string..\n",
    "str=input(\"Enter a string\")\n",
    "for letter in str:\n",
    "    print(letter)"
   ]
  },
  {
   "cell_type": "code",
   "execution_count": 8,
   "id": "4eb08e2d-e8af-47c7-93a4-678bcd7d7f42",
   "metadata": {},
   "outputs": [
    {
     "name": "stdin",
     "output_type": "stream",
     "text": [
      "Enter the number 87\n"
     ]
    },
    {
     "name": "stdout",
     "output_type": "stream",
     "text": [
      "87  is not in between 10 and 50\n"
     ]
    }
   ],
   "source": [
    "#9:Use logical operater to check if a number is between 10 and 50..\n",
    "num=int(input(\"Enter the number\"))\n",
    "if(num>10 and num<50):\n",
    "    print(num,\" is between 10 and 50\")\n",
    "else:\n",
    "    print(num,\" is not in between 10 and 50\")"
   ]
  },
  {
   "cell_type": "code",
   "execution_count": 10,
   "id": "e7305e05-2b76-4b75-95d3-d48ebc4b2c44",
   "metadata": {},
   "outputs": [
    {
     "name": "stdout",
     "output_type": "stream",
     "text": [
      "The sum of first 10 natural number is  45\n"
     ]
    }
   ],
   "source": [
    "#10:Sum of first 10 natural numbers..\n",
    "sum=0\n",
    "for i in range (0,10):\n",
    "    sum=sum+i\n",
    "print(\"The sum of first 10 natural number is \",sum)"
   ]
  },
  {
   "cell_type": "code",
   "execution_count": 13,
   "id": "55d001ec-1f33-490c-a1c1-babe17704574",
   "metadata": {},
   "outputs": [
    {
     "name": "stdout",
     "output_type": "stream",
     "text": [
      "The odd numbers are : \n",
      "1\n",
      "3\n",
      "5\n",
      "7\n",
      "9\n",
      "The even numbers are : \n",
      "2\n",
      "4\n",
      "6\n",
      "8\n",
      "10\n"
     ]
    }
   ],
   "source": [
    "#11:Print \"odd\" or \"even \" for numbers 1 to 10\n",
    "print(\"The odd numbers are : \")\n",
    "for i in range (1,11):\n",
    "    if(i%2!=0):\n",
    "        print(i)\n",
    "print(\"The even numbers are : \")\n",
    "for i in range (1,11):\n",
    "    if(i%2==0):\n",
    "        print(i)"
   ]
  },
  {
   "cell_type": "code",
   "execution_count": 1,
   "id": "ab4a127f-155a-4902-8f5b-e17855e0b159",
   "metadata": {},
   "outputs": [
    {
     "name": "stdout",
     "output_type": "stream",
     "text": [
      "1\n",
      "2\n",
      "3\n",
      "4\n"
     ]
    }
   ],
   "source": [
    "#12:Use \"break\" to stop loop when number is 5\n",
    "for i in range(1,11):\n",
    "    if(i==5):\n",
    "        break\n",
    "    print(i)"
   ]
  },
  {
   "cell_type": "code",
   "execution_count": 2,
   "id": "e51c7759-46f6-4027-bebb-4ba7b1b5f7dc",
   "metadata": {},
   "outputs": [
    {
     "name": "stdout",
     "output_type": "stream",
     "text": [
      "1\n",
      "2\n",
      "3\n",
      "4\n",
      "6\n",
      "7\n",
      "8\n",
      "9\n",
      "10\n"
     ]
    }
   ],
   "source": [
    "#13:Print 1 to 10 and use \"continue\" to skip printing 5..\n",
    "for i in range(1,11):\n",
    "    if(i==5):\n",
    "        continue\n",
    "    print(i)"
   ]
  },
  {
   "cell_type": "code",
   "execution_count": 3,
   "id": "7c713218-2d25-406c-8078-82b904e89fd2",
   "metadata": {},
   "outputs": [
    {
     "name": "stdout",
     "output_type": "stream",
     "text": [
      "20\n",
      "49\n",
      "56\n",
      "73\n"
     ]
    }
   ],
   "source": [
    "#14:Print all elements in a list using a loop..\n",
    "list=[20,49,56,73]\n",
    "for el in list:\n",
    "    print(el)"
   ]
  },
  {
   "cell_type": "code",
   "execution_count": 2,
   "id": "b68a1eb6-0ac3-49f6-a032-410c3ec19933",
   "metadata": {},
   "outputs": [
    {
     "name": "stdin",
     "output_type": "stream",
     "text": [
      "Enter number:  4\n"
     ]
    },
    {
     "name": "stdout",
     "output_type": "stream",
     "text": [
      "4  is not divisible by both 3 and 5.\n"
     ]
    }
   ],
   "source": [
    "#15. Check if a number is divisible by both 3 and 5\n",
    "n = int(input(\"Enter number: \"))\n",
    "if(n % 3 == 0 and n % 5 == 0):\n",
    "    print(n,\" is divisible by both 3 and 5.\")\n",
    "else:\n",
    "     print(n,\" is not divisible by both 3 and 5.\")"
   ]
  },
  {
   "cell_type": "code",
   "execution_count": 5,
   "id": "fb407ce8-5159-4fc6-b7c3-06f2d64f2be3",
   "metadata": {},
   "outputs": [
    {
     "name": "stdout",
     "output_type": "stream",
     "text": [
      "1 ^2= 1\n",
      "2 ^2= 4\n",
      "3 ^2= 9\n",
      "4 ^2= 16\n",
      "5 ^2= 25\n"
     ]
    }
   ],
   "source": [
    "# 16. Square of all numbers from 1 to 5\n",
    "for i in range(1, 6):\n",
    "    print(i,\"^2=\",i**2)"
   ]
  },
  {
   "cell_type": "code",
   "execution_count": 6,
   "id": "a70abeb3-3f2c-4383-bce3-7eae8fdc6b99",
   "metadata": {},
   "outputs": [
    {
     "name": "stdout",
     "output_type": "stream",
     "text": [
      "a 97\n",
      "b 98\n",
      "c 99\n"
     ]
    }
   ],
   "source": [
    "# 17. ASCII values of characters in a string\n",
    "s = \"abc\"\n",
    "for c in s:\n",
    "    print(c, ord(c))"
   ]
  },
  {
   "cell_type": "code",
   "execution_count": 7,
   "id": "6c7e7d05-6877-4656-a94e-e640b9cf601d",
   "metadata": {},
   "outputs": [
    {
     "name": "stdout",
     "output_type": "stream",
     "text": [
      "10\n",
      "9\n",
      "8\n",
      "7\n",
      "6\n",
      "5\n",
      "4\n",
      "3\n",
      "2\n",
      "1\n"
     ]
    }
   ],
   "source": [
    "# 18. Countdown from 10 to 1\n",
    "i = 10\n",
    "while i >= 1:\n",
    "    print(i)\n",
    "    i -= 1"
   ]
  },
  {
   "cell_type": "code",
   "execution_count": 9,
   "id": "b8db03c5-2af7-4aa6-9f82-ed8a2e1086b4",
   "metadata": {},
   "outputs": [
    {
     "name": "stdin",
     "output_type": "stream",
     "text": [
      "Enter number:  6\n"
     ]
    },
    {
     "name": "stdout",
     "output_type": "stream",
     "text": [
      "6  is divisible by 2 or 3\n"
     ]
    }
   ],
   "source": [
    "# 19. Check if a number is divisible by 2 or 3\n",
    "n = int(input(\"Enter number: \"))\n",
    "if(n % 2 == 0 or n % 3 == 0):\n",
    "    print(n,\" is divisible by 2 or 3\")"
   ]
  },
  {
   "cell_type": "code",
   "execution_count": 22,
   "id": "138027d7-cbea-45c6-88b8-b604e73e6151",
   "metadata": {},
   "outputs": [
    {
     "name": "stdout",
     "output_type": "stream",
     "text": [
      "10\n"
     ]
    }
   ],
   "source": [
    "# 20. Sum of digits of a number\n",
    "sum=0\n",
    "n=1234\n",
    "while n>0:\n",
    "    sum+=n%10\n",
    "    n//=10\n",
    "print(sum)"
   ]
  },
  {
   "cell_type": "code",
   "execution_count": 23,
   "id": "59b52d41-b250-4f04-9456-93f41d2d6e35",
   "metadata": {},
   "outputs": [
    {
     "name": "stdout",
     "output_type": "stream",
     "text": [
      "10 20\n",
      "20 10\n"
     ]
    }
   ],
   "source": [
    "# 21. Swap two numbers using temp variable\n",
    "a, b = 10, 20\n",
    "print(a,b)\n",
    "temp = a\n",
    "a = b\n",
    "b = temp\n",
    "print(a, b)"
   ]
  },
  {
   "cell_type": "code",
   "execution_count": 8,
   "id": "f74279d1-c5ff-45b7-94a8-2fb93b3a23db",
   "metadata": {},
   "outputs": [
    {
     "name": "stdout",
     "output_type": "stream",
     "text": [
      "7\n",
      "14\n",
      "21\n",
      "28\n",
      "35\n",
      "42\n",
      "49\n",
      "56\n",
      "63\n",
      "70\n",
      "77\n",
      "84\n",
      "91\n",
      "98\n"
     ]
    }
   ],
   "source": [
    "# 22. Print numbers 1 to 100 divisible by 7\n",
    "for i in range(1, 101):\n",
    "    if i % 7 == 0:\n",
    "        print(i)"
   ]
  },
  {
   "cell_type": "code",
   "execution_count": 9,
   "id": "bf977d47-660b-4985-b0f3-6cf10094d27a",
   "metadata": {},
   "outputs": [
    {
     "name": "stdout",
     "output_type": "stream",
     "text": [
      "120\n"
     ]
    }
   ],
   "source": [
    "# 23. Factorial of a number\n",
    "n = 5\n",
    "fact = 1\n",
    "for i in range(1, n+1):\n",
    "    fact *= i\n",
    "print(fact)"
   ]
  },
  {
   "cell_type": "code",
   "execution_count": 29,
   "id": "e929d87b-4c2a-4396-bf18-29b7b1e5a551",
   "metadata": {},
   "outputs": [
    {
     "name": "stdin",
     "output_type": "stream",
     "text": [
      "Enter a string :  subi\n"
     ]
    },
    {
     "name": "stdout",
     "output_type": "stream",
     "text": [
      "The number of vowels in the  subi  is  2\n"
     ]
    }
   ],
   "source": [
    "# 24. Count vowels in a string\n",
    "str=input(\"Enter a string : \")\n",
    "count=0\n",
    "for char in str:\n",
    "    if char in \"aeiouAEIOU\":\n",
    "        count=count+1\n",
    "print(\"The number of vowels in the \",str,\" is \",count)"
   ]
  },
  {
   "cell_type": "code",
   "execution_count": 11,
   "id": "04f9d559-b7f9-4a41-b778-a933ca648177",
   "metadata": {},
   "outputs": [
    {
     "name": "stdout",
     "output_type": "stream",
     "text": [
      "4321\n"
     ]
    }
   ],
   "source": [
    "# 25. Reverse a number using loop\n",
    "n = 1234\n",
    "rev = 0\n",
    "while n > 0:\n",
    "    rev = rev*10 + n%10\n",
    "    n //= 10\n",
    "print(rev)"
   ]
  },
  {
   "cell_type": "code",
   "execution_count": 12,
   "id": "fe4070d5-f7e5-4a69-8f4b-516ef7e8dfeb",
   "metadata": {},
   "outputs": [
    {
     "name": "stdout",
     "output_type": "stream",
     "text": [
      "8\n"
     ]
    }
   ],
   "source": [
    "# 26. Find maximum in list using loop\n",
    "lst = [3, 5, 2, 8]\n",
    "max_val = lst[0]\n",
    "for i in lst:\n",
    "    if i > max_val:\n",
    "        max_val = i\n",
    "print(max_val)"
   ]
  },
  {
   "cell_type": "code",
   "execution_count": 13,
   "id": "460b851f-2287-4565-b4be-da673ffd78f7",
   "metadata": {},
   "outputs": [
    {
     "name": "stdout",
     "output_type": "stream",
     "text": [
      "Prime\n"
     ]
    }
   ],
   "source": [
    "# 27. Prime number check using loop\n",
    "n = 7\n",
    "is_prime = True\n",
    "for i in range(2, int(n**0.5)+1):\n",
    "    if n % i == 0:\n",
    "        is_prime = False\n",
    "        break\n",
    "print(\"Prime\" if is_prime and n > 1 else \"Not prime\")"
   ]
  },
  {
   "cell_type": "code",
   "execution_count": 14,
   "id": "ed844c87-9035-464d-84ae-681f70fcac7e",
   "metadata": {},
   "outputs": [
    {
     "name": "stdout",
     "output_type": "stream",
     "text": [
      "12\n"
     ]
    }
   ],
   "source": [
    "# 28. Sum of even numbers in list\n",
    "lst = [1, 2, 3, 4, 6]\n",
    "print(sum(i for i in lst if i % 2 == 0))"
   ]
  },
  {
   "cell_type": "code",
   "execution_count": 15,
   "id": "07cc2aa0-4f9d-4e3d-9e3a-7bec317cab01",
   "metadata": {},
   "outputs": [
    {
     "name": "stdout",
     "output_type": "stream",
     "text": [
      "1 \n",
      "1 2 \n",
      "1 2 3 \n",
      "1 2 3 4 \n",
      "1 2 3 4 5 \n"
     ]
    }
   ],
   "source": [
    "# 29. Number pattern using nested loops\n",
    "for i in range(1, 6):\n",
    "    for j in range(1, i+1):\n",
    "        print(j, end=\" \")\n",
    "    print()"
   ]
  },
  {
   "cell_type": "code",
   "execution_count": 32,
   "id": "f7187227-241d-4fff-9174-26b30b0fa731",
   "metadata": {},
   "outputs": [
    {
     "name": "stdout",
     "output_type": "stream",
     "text": [
      "{'1': 2, '2': 2, '3': 2}\n"
     ]
    }
   ],
   "source": [
    "# 30. Count frequency of digits in a number\n",
    "n = 112233\n",
    "freq = {}\n",
    "for d in str(n):\n",
    "    freq[d] = freq.get(d, 0) + 1\n",
    "print(freq)"
   ]
  },
  {
   "cell_type": "code",
   "execution_count": 33,
   "id": "0b95f460-8d2a-468b-9c13-422449d51364",
   "metadata": {},
   "outputs": [
    {
     "name": "stdout",
     "output_type": "stream",
     "text": [
      "6\n"
     ]
    }
   ],
   "source": [
    "# 31. GCD of two numbers using loop\n",
    "a, b = 48, 18\n",
    "while b:\n",
    "    a, b = b, a % b\n",
    "print(a)"
   ]
  },
  {
   "cell_type": "code",
   "execution_count": 34,
   "id": "4bfe53a2-f043-4edf-9e3f-5895019304de",
   "metadata": {},
   "outputs": [
    {
     "name": "stdout",
     "output_type": "stream",
     "text": [
      "True\n"
     ]
    }
   ],
   "source": [
    "# 32. Check if a number is a palindrome\n",
    "n = 121\n",
    "print(str(n) == str(n)[::-1])"
   ]
  },
  {
   "cell_type": "code",
   "execution_count": 35,
   "id": "77f88a67-0ab9-4a1c-9753-b032d90727a1",
   "metadata": {},
   "outputs": [
    {
     "name": "stdout",
     "output_type": "stream",
     "text": [
      "4\n"
     ]
    }
   ],
   "source": [
    "# 33. Count words in a sentence\n",
    "s = \"Hello world from Python\"\n",
    "print(len(s.split()))"
   ]
  },
  {
   "cell_type": "code",
   "execution_count": 36,
   "id": "3606172f-ff08-4107-a13a-841eec601c5f",
   "metadata": {},
   "outputs": [
    {
     "name": "stdout",
     "output_type": "stream",
     "text": [
      "[2, 3]\n"
     ]
    }
   ],
   "source": [
    "# 34. Common elements in two lists\n",
    "a = [1, 2, 3]\n",
    "b = [2, 3, 4]\n",
    "print([i for i in a if i in b])"
   ]
  },
  {
   "cell_type": "code",
   "execution_count": 38,
   "id": "55914a85-5cea-4046-95c1-1d3b1d60aa25",
   "metadata": {},
   "outputs": [
    {
     "name": "stdin",
     "output_type": "stream",
     "text": [
      "Enter score:  78\n"
     ]
    },
    {
     "name": "stdout",
     "output_type": "stream",
     "text": [
      "C\n"
     ]
    }
   ],
   "source": [
    "# 35. Grade students using elif\n",
    "score = int(input(\"Enter score: \"))\n",
    "if score >= 90:\n",
    "    grade = 'A'\n",
    "elif score >= 80:\n",
    "    grade = 'B'\n",
    "elif score >= 70:\n",
    "    grade = 'C'\n",
    "else:\n",
    "    grade = 'F'\n",
    "print(grade)"
   ]
  },
  {
   "cell_type": "code",
   "execution_count": 39,
   "id": "f66bba65-7ffe-4ad3-8ad9-cf43c317dbeb",
   "metadata": {},
   "outputs": [
    {
     "name": "stdout",
     "output_type": "stream",
     "text": [
      "*\n",
      "**\n",
      "***\n",
      "****\n",
      "*****\n"
     ]
    }
   ],
   "source": [
    "# 36. Right-angled triangle using *\n",
    "for i in range(1, 6):\n",
    "    print('*' * i)"
   ]
  },
  {
   "cell_type": "code",
   "execution_count": 40,
   "id": "4ee3ed47-3a45-4f20-9048-7389a475b90a",
   "metadata": {},
   "outputs": [
    {
     "name": "stdout",
     "output_type": "stream",
     "text": [
      "True\n"
     ]
    }
   ],
   "source": [
    "# 37. Check if year is leap year\n",
    "year = 2024\n",
    "print(year % 4 == 0 and (year % 100 != 0 or year % 400 == 0))"
   ]
  },
  {
   "cell_type": "code",
   "execution_count": 41,
   "id": "29206dea-71b4-48c6-8bbb-8b51ae861e65",
   "metadata": {},
   "outputs": [
    {
     "name": "stdout",
     "output_type": "stream",
     "text": [
      "0 1 1 2 3 5 8 13 21 34 "
     ]
    }
   ],
   "source": [
    "# 38. Fibonacci series using loop\n",
    "a, b = 0, 1\n",
    "for _ in range(10):\n",
    "    print(a, end=\" \")\n",
    "    a, b = b, a + b"
   ]
  },
  {
   "cell_type": "code",
   "execution_count": 35,
   "id": "fb625657-b8e3-46a4-b39d-c1b0138fb9e9",
   "metadata": {},
   "outputs": [
    {
     "name": "stdout",
     "output_type": "stream",
     "text": [
      "Upper: 2 Lower: 8\n"
     ]
    }
   ],
   "source": [
    "# 39. Count upper and lowercase in a string\n",
    "s = \"Hello World \"\n",
    "upper = 0\n",
    "lower = 0\n",
    "for char in s:\n",
    "    if char.isupper():\n",
    "        upper+=1\n",
    "    elif char.islower():\n",
    "        lower+=1\n",
    "print(\"Upper:\", upper, \"Lower:\", lower)"
   ]
  },
  {
   "cell_type": "code",
   "execution_count": 43,
   "id": "dcab88ff-4278-4179-b91b-8b841866eac5",
   "metadata": {},
   "outputs": [
    {
     "name": "stdout",
     "output_type": "stream",
     "text": [
      "100\n",
      "99\n",
      "98\n",
      "97\n",
      "96\n",
      "95\n",
      "94\n",
      "93\n",
      "92\n",
      "91\n",
      "90\n",
      "89\n",
      "88\n",
      "87\n",
      "86\n",
      "85\n",
      "84\n",
      "83\n",
      "82\n",
      "81\n",
      "80\n",
      "79\n",
      "78\n",
      "77\n",
      "76\n",
      "75\n",
      "74\n",
      "73\n",
      "72\n",
      "71\n",
      "70\n",
      "69\n",
      "68\n",
      "67\n",
      "66\n",
      "65\n",
      "64\n",
      "63\n",
      "62\n",
      "61\n",
      "60\n",
      "59\n",
      "58\n",
      "57\n",
      "56\n",
      "55\n",
      "54\n",
      "53\n",
      "52\n",
      "51\n",
      "50\n",
      "49\n",
      "48\n",
      "47\n",
      "46\n",
      "45\n",
      "44\n",
      "43\n",
      "42\n",
      "41\n",
      "40\n",
      "39\n",
      "38\n",
      "37\n",
      "36\n",
      "35\n",
      "34\n",
      "33\n",
      "32\n",
      "31\n",
      "30\n",
      "29\n",
      "28\n",
      "27\n",
      "26\n",
      "25\n",
      "24\n",
      "23\n",
      "22\n",
      "21\n",
      "20\n",
      "19\n",
      "18\n",
      "17\n",
      "16\n",
      "15\n",
      "14\n",
      "13\n",
      "12\n",
      "11\n",
      "10\n",
      "9\n",
      "8\n",
      "7\n",
      "6\n",
      "5\n",
      "4\n",
      "3\n",
      "2\n",
      "1\n"
     ]
    }
   ],
   "source": [
    "# 40. Print numbers from 100 to 1 using loop\n",
    "for i in range(100, 0, -1):\n",
    "    print(i)"
   ]
  },
  {
   "cell_type": "code",
   "execution_count": null,
   "id": "9031c3be-d16d-490d-97af-54f474360be4",
   "metadata": {},
   "outputs": [],
   "source": []
  }
 ],
 "metadata": {
  "kernelspec": {
   "display_name": "Python 3 (ipykernel)",
   "language": "python",
   "name": "python3"
  },
  "language_info": {
   "codemirror_mode": {
    "name": "ipython",
    "version": 3
   },
   "file_extension": ".py",
   "mimetype": "text/x-python",
   "name": "python",
   "nbconvert_exporter": "python",
   "pygments_lexer": "ipython3",
   "version": "3.12.7"
  }
 },
 "nbformat": 4,
 "nbformat_minor": 5
}
