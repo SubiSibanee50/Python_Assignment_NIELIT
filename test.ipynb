{
 "cells": [
  {
   "cell_type": "markdown",
   "id": "5426668c",
   "metadata": {},
   "source": [
    "NumPy"
   ]
  },
  {
   "cell_type": "code",
   "execution_count": 3,
   "id": "b21d5e31",
   "metadata": {},
   "outputs": [],
   "source": [
    "import numpy as np"
   ]
  },
  {
   "cell_type": "markdown",
   "id": "04ab14a2",
   "metadata": {},
   "source": [
    "1.Create a 1D array from a list.\n"
   ]
  },
  {
   "cell_type": "code",
   "execution_count": 2,
   "id": "b0e2296d",
   "metadata": {},
   "outputs": [
    {
     "data": {
      "text/plain": [
       "array([11, 22, 33, 44])"
      ]
     },
     "execution_count": 2,
     "metadata": {},
     "output_type": "execute_result"
    }
   ],
   "source": [
    "lst=(11,22,33,44)\n",
    "arr1=np.array(lst)\n",
    "arr1"
   ]
  },
  {
   "cell_type": "markdown",
   "id": "6685e60b",
   "metadata": {},
   "source": [
    "2. Create a 3x3 array of zeros.\n"
   ]
  },
  {
   "cell_type": "code",
   "execution_count": 3,
   "id": "ede5b282",
   "metadata": {},
   "outputs": [
    {
     "data": {
      "text/plain": [
       "array([[0., 0., 0.],\n",
       "       [0., 0., 0.],\n",
       "       [0., 0., 0.]])"
      ]
     },
     "execution_count": 3,
     "metadata": {},
     "output_type": "execute_result"
    }
   ],
   "source": [
    "arr2=np.zeros((3,3))\n",
    "arr2"
   ]
  },
  {
   "cell_type": "markdown",
   "id": "4b3228e3",
   "metadata": {},
   "source": [
    "3. Create a 2x2 array of ones."
   ]
  },
  {
   "cell_type": "code",
   "execution_count": 4,
   "id": "fddaf71d",
   "metadata": {},
   "outputs": [
    {
     "data": {
      "text/plain": [
       "array([[1., 1.],\n",
       "       [1., 1.]])"
      ]
     },
     "execution_count": 4,
     "metadata": {},
     "output_type": "execute_result"
    }
   ],
   "source": [
    "arr3=np.ones((2,2))\n",
    "arr3"
   ]
  },
  {
   "cell_type": "markdown",
   "id": "216a6008",
   "metadata": {},
   "source": [
    "4. Generate array from 0 to 10 (exclusive)."
   ]
  },
  {
   "cell_type": "code",
   "execution_count": 6,
   "id": "aa673960",
   "metadata": {},
   "outputs": [
    {
     "data": {
      "text/plain": [
       "array([0, 1, 2, 3, 4, 5, 6, 7, 8, 9])"
      ]
     },
     "execution_count": 6,
     "metadata": {},
     "output_type": "execute_result"
    }
   ],
   "source": [
    "arr4=np.arange(0,10,1)\n",
    "arr4\n"
   ]
  },
  {
   "cell_type": "markdown",
   "id": "33fc220e",
   "metadata": {},
   "source": [
    "5. Create 5 evenly spaced numbers between 0 and 1.\n"
   ]
  },
  {
   "cell_type": "code",
   "execution_count": 7,
   "id": "33d3236a",
   "metadata": {},
   "outputs": [
    {
     "data": {
      "text/plain": [
       "array([0.  , 0.25, 0.5 , 0.75, 1.  ])"
      ]
     },
     "execution_count": 7,
     "metadata": {},
     "output_type": "execute_result"
    }
   ],
   "source": [
    "arr5=np.linspace(0,1,5)\n",
    "arr5"
   ]
  },
  {
   "cell_type": "markdown",
   "id": "36beae34",
   "metadata": {},
   "source": [
    "6. Create a 4x4 identity matrix."
   ]
  },
  {
   "cell_type": "code",
   "execution_count": 9,
   "id": "7020d241",
   "metadata": {},
   "outputs": [
    {
     "data": {
      "text/plain": [
       "array([[1., 0., 0., 0.],\n",
       "       [0., 1., 0., 0.],\n",
       "       [0., 0., 1., 0.],\n",
       "       [0., 0., 0., 1.]])"
      ]
     },
     "execution_count": 9,
     "metadata": {},
     "output_type": "execute_result"
    }
   ],
   "source": [
    "arr6=np.eye(4,)\n",
    "arr6"
   ]
  },
  {
   "cell_type": "markdown",
   "id": "f98bcaf1",
   "metadata": {},
   "source": [
    "7. Reshape 1D array to 2D."
   ]
  },
  {
   "cell_type": "code",
   "execution_count": 13,
   "id": "447f7263",
   "metadata": {},
   "outputs": [
    {
     "data": {
      "text/plain": [
       "array([[11, 22],\n",
       "       [33, 44]])"
      ]
     },
     "execution_count": 13,
     "metadata": {},
     "output_type": "execute_result"
    }
   ],
   "source": [
    "arr7=np.array([11,22,33,44])\n",
    "arr8=arr7.reshape(2,2)\n",
    "arr8"
   ]
  },
  {
   "cell_type": "markdown",
   "id": "7d03d242",
   "metadata": {},
   "source": [
    "8. Get the shape and dtype of an array."
   ]
  },
  {
   "cell_type": "code",
   "execution_count": 18,
   "id": "c82c8d55",
   "metadata": {},
   "outputs": [
    {
     "name": "stdout",
     "output_type": "stream",
     "text": [
      "(1, 6)\n"
     ]
    },
    {
     "data": {
      "text/plain": [
       "dtype('int32')"
      ]
     },
     "execution_count": 18,
     "metadata": {},
     "output_type": "execute_result"
    }
   ],
   "source": [
    "arr9=np.array([[1,2,3,4,5,6]])\n",
    "print(np.shape(arr9))\n",
    "arr9.dtype"
   ]
  },
  {
   "cell_type": "markdown",
   "id": "f8ac921f",
   "metadata": {},
   "source": [
    "9. Reverse a NumPy array."
   ]
  },
  {
   "cell_type": "code",
   "execution_count": 4,
   "id": "9ffe7219",
   "metadata": {},
   "outputs": [
    {
     "data": {
      "text/plain": [
       "array([[5, 4, 3, 2, 1]])"
      ]
     },
     "execution_count": 4,
     "metadata": {},
     "output_type": "execute_result"
    }
   ],
   "source": [
    "arr10=np.array([[5,4,3,2,1]])\n",
    "arr10[::-1]"
   ]
  },
  {
   "cell_type": "markdown",
   "id": "5af24276",
   "metadata": {},
   "source": [
    "10. Extract even numbers from an array."
   ]
  },
  {
   "cell_type": "code",
   "execution_count": 26,
   "id": "d7cb635b",
   "metadata": {},
   "outputs": [
    {
     "name": "stdout",
     "output_type": "stream",
     "text": [
      "4\n",
      "6\n",
      "8\n"
     ]
    }
   ],
   "source": [
    "arr11=np.array([4,5,6,7,8])\n",
    "for num in arr11:\n",
    "    if num %2 ==0:\n",
    "        print(num)"
   ]
  },
  {
   "cell_type": "markdown",
   "id": "e49ee456",
   "metadata": {},
   "source": [
    "11. Find the max in each row."
   ]
  },
  {
   "cell_type": "code",
   "execution_count": 30,
   "id": "71dc0826",
   "metadata": {},
   "outputs": [
    {
     "data": {
      "text/plain": [
       "array([4, 8])"
      ]
     },
     "execution_count": 30,
     "metadata": {},
     "output_type": "execute_result"
    }
   ],
   "source": [
    "arr12=np.array([[1,2,3,4],[5,6,7,8]])\n",
    "arr12.max(1)"
   ]
  },
  {
   "cell_type": "markdown",
   "id": "af60589c",
   "metadata": {},
   "source": [
    "12. Compute the mean, std, and median of an array.\n"
   ]
  },
  {
   "cell_type": "code",
   "execution_count": 38,
   "id": "5c9c0943",
   "metadata": {},
   "outputs": [
    {
     "name": "stdout",
     "output_type": "stream",
     "text": [
      "Mean = [2.5 6.5]\n",
      "Standard Deviation =  [1.11803399 1.11803399]\n",
      "Median =  [2.5 6.5]\n"
     ]
    }
   ],
   "source": [
    "print(\"Mean =\",arr12.mean(axis=1))\n",
    "print(\"Standard Deviation = \",arr12.std(axis=1))\n",
    "print(\"Median = \",np.median(arr12,axis=1))"
   ]
  },
  {
   "cell_type": "markdown",
   "id": "872d701b",
   "metadata": {},
   "source": [
    "13. Stack two arrays vertically."
   ]
  },
  {
   "cell_type": "code",
   "execution_count": 40,
   "id": "7d2a8844",
   "metadata": {},
   "outputs": [
    {
     "data": {
      "text/plain": [
       "array([[9, 8, 7],\n",
       "       [6, 5, 4],\n",
       "       [1, 2, 3],\n",
       "       [7, 6, 9]])"
      ]
     },
     "execution_count": 40,
     "metadata": {},
     "output_type": "execute_result"
    }
   ],
   "source": [
    "arr13=([[9,8,7],[6,5,4]])\n",
    "arr14=([[1,2,3],[7,6,9]])\n",
    "np.concatenate((arr13,arr14),axis=0)"
   ]
  },
  {
   "cell_type": "markdown",
   "id": "533a16f7",
   "metadata": {},
   "source": [
    "14. Stack two arrays horizontally."
   ]
  },
  {
   "cell_type": "code",
   "execution_count": 41,
   "id": "dcde15e6",
   "metadata": {},
   "outputs": [
    {
     "data": {
      "text/plain": [
       "array([[9, 8, 7, 1, 2, 3],\n",
       "       [6, 5, 4, 7, 6, 9]])"
      ]
     },
     "execution_count": 41,
     "metadata": {},
     "output_type": "execute_result"
    }
   ],
   "source": [
    "np.concatenate((arr13,arr14),axis=1)"
   ]
  },
  {
   "cell_type": "markdown",
   "id": "82160fef",
   "metadata": {},
   "source": [
    "15. Stack two arrays horizontally.\n"
   ]
  },
  {
   "cell_type": "code",
   "execution_count": 42,
   "id": "e3dfa3df",
   "metadata": {},
   "outputs": [
    {
     "data": {
      "text/plain": [
       "array([[9, 8, 7, 1, 2, 3],\n",
       "       [6, 5, 4, 7, 6, 9]])"
      ]
     },
     "execution_count": 42,
     "metadata": {},
     "output_type": "execute_result"
    }
   ],
   "source": [
    "np.concatenate((arr13,arr14),axis=1)"
   ]
  },
  {
   "cell_type": "markdown",
   "id": "4e877ea8",
   "metadata": {},
   "source": [
    "16. Find the unique values and their counts.\n"
   ]
  },
  {
   "cell_type": "code",
   "execution_count": 47,
   "id": "0b0b77cd",
   "metadata": {},
   "outputs": [
    {
     "name": "stdout",
     "output_type": "stream",
     "text": [
      "[[1 1]\n",
      " [2 1]\n",
      " [3 2]\n",
      " [4 2]\n",
      " [5 2]\n",
      " [6 2]\n",
      " [7 1]\n",
      " [8 1]]\n"
     ]
    }
   ],
   "source": [
    "arr15=np.array([[1,2,3,4,5,6],[8,7,3,6,4,5]])\n",
    "unique,counts=np.unique(arr15, return_counts=True)\n",
    "print(np.asarray((unique, counts)).T)"
   ]
  },
  {
   "cell_type": "markdown",
   "id": "879b38d0",
   "metadata": {},
   "source": [
    "17. Replace NaN with column means.\n"
   ]
  },
  {
   "cell_type": "code",
   "execution_count": 4,
   "id": "dc0d39db",
   "metadata": {},
   "outputs": [
    {
     "name": "stdout",
     "output_type": "stream",
     "text": [
      "Column means: [4.  5.  7.5]\n"
     ]
    }
   ],
   "source": [
    "#17. Replace NaN with column means.\n",
    "arr16 = np.array([[1, 2, np.nan], [4, np.nan, 6], [7, 8, 9]])\n",
    "col_mean = np.nanmean(arr16, axis=0)\n",
    "print(\"Column means:\", col_mean)\n"
   ]
  },
  {
   "cell_type": "markdown",
   "id": "9fa051df",
   "metadata": {},
   "source": [
    "18. Get index of min and max values.\n"
   ]
  },
  {
   "cell_type": "markdown",
   "id": "421c5d73",
   "metadata": {},
   "source": []
  },
  {
   "cell_type": "markdown",
   "id": "ea1257d4",
   "metadata": {},
   "source": [
    "19. Create a 3D array of random integers.\n",
    "\n"
   ]
  },
  {
   "cell_type": "code",
   "execution_count": null,
   "id": "77a473ec",
   "metadata": {},
   "outputs": [
    {
     "name": "stdout",
     "output_type": "stream",
     "text": [
      "3D array of random integers:\n",
      " [[[6 5 3 5]\n",
      "  [4 8 9 7]\n",
      "  [6 3 4 0]]\n",
      "\n",
      " [[7 2 3 4]\n",
      "  [1 5 7 4]\n",
      "  [4 7 9 4]]]\n"
     ]
    }
   ],
   "source": [
    "arr18 = np.random.randint(0, 10, size=(2, 3, 4))\n",
    "print(\"3D array of random integers:\\n\", arr18)"
   ]
  },
  {
   "cell_type": "markdown",
   "id": "61844a5c",
   "metadata": {},
   "source": [
    "20. Use np.where() to replace values\n"
   ]
  },
  {
   "cell_type": "code",
   "execution_count": 5,
   "id": "5b6c47aa",
   "metadata": {},
   "outputs": [
    {
     "name": "stdout",
     "output_type": "stream",
     "text": [
      "Array after np.where():\n",
      " [[ 1  2  3]\n",
      " [-1 -1 -1]]\n"
     ]
    }
   ],
   "source": [
    "arr19 = np.array([[1, 2, 3], [4, 5, 6]])\n",
    "arr19_replaced = np.where(arr19 > 3, -1, arr19)\n",
    "print('Array after np.where():\\n', arr19_replaced)"
   ]
  },
  {
   "cell_type": "markdown",
   "id": "2f74ec47",
   "metadata": {
    "vscode": {
     "languageId": "plaintext"
    }
   },
   "source": [
    "Pandas"
   ]
  },
  {
   "cell_type": "code",
   "execution_count": 6,
   "id": "c9ea05a5",
   "metadata": {},
   "outputs": [],
   "source": [
    "import pandas as pd"
   ]
  },
  {
   "cell_type": "markdown",
   "id": "30bece49",
   "metadata": {},
   "source": [
    "1. Create a Series using a Python list.\n"
   ]
  },
  {
   "cell_type": "code",
   "execution_count": 55,
   "id": "67044448",
   "metadata": {},
   "outputs": [
    {
     "name": "stdout",
     "output_type": "stream",
     "text": [
      "Series from list:\n",
      " 0    10\n",
      "1    20\n",
      "2    30\n",
      "3    40\n",
      "4    50\n",
      "dtype: int64\n"
     ]
    }
   ],
   "source": [
    "series1 = pd.Series([10, 20, 30, 40,50])\n",
    "print(\"Series from list:\\n\",series1)\n"
   ]
  },
  {
   "cell_type": "markdown",
   "id": "9a7038c5",
   "metadata": {},
   "source": [
    "2. Create a Series with custom string indices.\n",
    "\n",
    "\n"
   ]
  },
  {
   "cell_type": "code",
   "execution_count": null,
   "id": "d10244b6",
   "metadata": {},
   "outputs": [
    {
     "name": "stdout",
     "output_type": "stream",
     "text": [
      "Series with custom indices:\n",
      " a    100\n",
      "b    200\n",
      "c    300\n",
      "dtype: int64\n"
     ]
    }
   ],
   "source": [
    "series2 = pd.Series([100, 200, 300], index=['a', 'b', 'c'])\n",
    "print(\"Series with custom indices:\\n\", series2)"
   ]
  },
  {
   "cell_type": "markdown",
   "id": "19ae6db0",
   "metadata": {},
   "source": [
    "3. Create a Series from a dictionary.\n"
   ]
  },
  {
   "cell_type": "code",
   "execution_count": 53,
   "id": "c26925db",
   "metadata": {},
   "outputs": [
    {
     "name": "stdout",
     "output_type": "stream",
     "text": [
      "Series from dictionary:\n",
      " x    1\n",
      "y    2\n",
      "z    3\n",
      "dtype: int64\n"
     ]
    }
   ],
   "source": [
    "series3 = pd.Series({'x': 1, 'y': 2, 'z': 3})\n",
    "print(\"Series from dictionary:\\n\", series3)"
   ]
  },
  {
   "cell_type": "markdown",
   "id": "d505873f",
   "metadata": {},
   "source": [
    "4. Access first 3 elements of a Series.\n"
   ]
  },
  {
   "cell_type": "code",
   "execution_count": null,
   "id": "8ae1ec32",
   "metadata": {},
   "outputs": [
    {
     "name": "stdout",
     "output_type": "stream",
     "text": [
      "First 3 elements of series1:\n",
      " 0    10\n",
      "1    20\n",
      "2    30\n",
      "dtype: int64\n"
     ]
    }
   ],
   "source": [
    "print(\"First 3 elements of series1:\\n\", series1.head(3))"
   ]
  },
  {
   "cell_type": "markdown",
   "id": "8f759ac0",
   "metadata": {},
   "source": [
    "5. Filter Series elements greater than 50.\n",
    "\n"
   ]
  },
  {
   "cell_type": "code",
   "execution_count": 59,
   "id": "aea3e73f",
   "metadata": {},
   "outputs": [
    {
     "name": "stdout",
     "output_type": "stream",
     "text": [
      "Filtered Series (elements > 50):\n",
      " 5     60\n",
      "6     70\n",
      "7     80\n",
      "8     90\n",
      "9    100\n",
      "dtype: int64\n"
     ]
    }
   ],
   "source": [
    "series4 = pd.Series([10, 20, 30, 40,50,60,70,80,90,100])\n",
    "filtered_series = series4[series4 > 50]\n",
    "print(\"Filtered Series (elements > 50):\\n\", filtered_series)"
   ]
  },
  {
   "cell_type": "markdown",
   "id": "86562d48",
   "metadata": {},
   "source": [
    "6. Add two Series with different indices.\n",
    "\n"
   ]
  },
  {
   "cell_type": "code",
   "execution_count": 4,
   "id": "f4cde0b4",
   "metadata": {},
   "outputs": [
    {
     "name": "stdout",
     "output_type": "stream",
     "text": [
      "Addition of two series : \n",
      " 0     7\n",
      "1     9\n",
      "2    11\n",
      "3    13\n",
      "4    15\n",
      "dtype: int64\n"
     ]
    }
   ],
   "source": [
    "series5 = pd.Series([1, 2, 3, 4, 5])\n",
    "series6=pd.Series([6,7,8,9,10])\n",
    "print(\"Addition of two series : \\n\",series5+series6)"
   ]
  },
  {
   "cell_type": "markdown",
   "id": "b09aa6fa",
   "metadata": {},
   "source": [
    "\n",
    "7. Multiply a Series by a scalar.\n"
   ]
  },
  {
   "cell_type": "code",
   "execution_count": 6,
   "id": "8f57b83f",
   "metadata": {},
   "outputs": [
    {
     "name": "stdout",
     "output_type": "stream",
     "text": [
      "0     2\n",
      "1     4\n",
      "2     6\n",
      "3     8\n",
      "4    10\n",
      "dtype: int64\n"
     ]
    }
   ],
   "source": [
    "series7=pd.Series([1,2,3,4,5])\n",
    "print(series7*2)"
   ]
  },
  {
   "cell_type": "markdown",
   "id": "18f4cc3d",
   "metadata": {},
   "source": [
    "8. Use .multiply() method to multiply with scalar.\n"
   ]
  },
  {
   "cell_type": "code",
   "execution_count": null,
   "id": "eff147b0",
   "metadata": {},
   "outputs": [
    {
     "name": "stdout",
     "output_type": "stream",
     "text": [
      "Series after multiplication with 3:\n",
      " 0     3\n",
      "1     6\n",
      "2     9\n",
      "3    12\n",
      "4    15\n",
      "Name: Multiplied Series, dtype: int64\n"
     ]
    }
   ],
   "source": [
    "series8 = pd.Series([1, 2, 3, 4, 5])\n",
    "series8_multiplied = series8.multiply(3)    \n",
    "series8_multiplied.name = 'Multiplied Series'\n",
    "print(\"Series after multiplication with 3:\\n\", series8_multiplied)"
   ]
  },
  {
   "cell_type": "markdown",
   "id": "ef461afc",
   "metadata": {},
   "source": [
    "10. Sort Series by values descending.\n"
   ]
  },
  {
   "cell_type": "code",
   "execution_count": null,
   "id": "cce29614",
   "metadata": {},
   "outputs": [
    {
     "name": "stdout",
     "output_type": "stream",
     "text": [
      "Sorted Series in descending order:\n",
      " 2    8\n",
      "0    5\n",
      "4    4\n",
      "1    2\n",
      "3    1\n",
      "dtype: int64\n"
     ]
    }
   ],
   "source": [
    "series9 = pd.Series([5, 2, 8, 1, 4])\n",
    "sorted_series = series9.sort_values(ascending=False)\n",
    "print(\"Sorted Series in descending order:\\n\", sorted_series)"
   ]
  },
  {
   "cell_type": "markdown",
   "id": "9cd5b813",
   "metadata": {},
   "source": [
    "11. Sort Series by index.\n"
   ]
  },
  {
   "cell_type": "code",
   "execution_count": null,
   "id": "278005ab",
   "metadata": {},
   "outputs": [
    {
     "name": "stdout",
     "output_type": "stream",
     "text": [
      "Series sorted by index:\n",
      " a    20\n",
      "b    30\n",
      "c    10\n",
      "dtype: int64\n"
     ]
    }
   ],
   "source": [
    "series10 = pd.Series([10, 20, 30], index=['c', 'a', 'b'])\n",
    "sorted_by_index = series10.sort_index()\n",
    "print(\"Series sorted by index:\\n\", sorted_by_index)"
   ]
  },
  {
   "cell_type": "markdown",
   "id": "da4cc61b",
   "metadata": {},
   "source": [
    "12. Check for null values.\n",
    "\n"
   ]
  },
  {
   "cell_type": "code",
   "execution_count": null,
   "id": "904fef48",
   "metadata": {},
   "outputs": [
    {
     "name": "stdout",
     "output_type": "stream",
     "text": [
      "Null values in series11:\n",
      " 0    False\n",
      "1    False\n",
      "2     True\n",
      "3    False\n",
      "4    False\n",
      "dtype: bool\n"
     ]
    }
   ],
   "source": [
    "series11 = pd.Series([1, 2, None, 4, 5])\n",
    "null_check = series11.isnull()\n",
    "print(\"Null values in series11:\\n\", null_check)"
   ]
  },
  {
   "cell_type": "markdown",
   "id": "6c34d1a5",
   "metadata": {},
   "source": [
    "14. Concatenate two Series using concat().\n"
   ]
  },
  {
   "cell_type": "code",
   "execution_count": null,
   "id": "3cc9634f",
   "metadata": {},
   "outputs": [
    {
     "name": "stdout",
     "output_type": "stream",
     "text": [
      "Concatenated Series:\n",
      " 0    1\n",
      "1    2\n",
      "2    3\n",
      "0    4\n",
      "1    5\n",
      "2    6\n",
      "dtype: int64\n"
     ]
    }
   ],
   "source": [
    "series12 = pd.Series([1, 2, 3])\n",
    "series13 = pd.Series([4, 5, 6]) \n",
    "concatenated_series = pd.concat([series12, series13])\n",
    "print(\"Concatenated Series:\\n\", concatenated_series)"
   ]
  },
  {
   "cell_type": "markdown",
   "id": "ec9793a2",
   "metadata": {},
   "source": [
    "15. Concatenate two Series using append().\n"
   ]
  },
  {
   "cell_type": "code",
   "execution_count": 7,
   "id": "61692ca3",
   "metadata": {},
   "outputs": [],
   "source": [
    "# append() is not a part of pandas anymore, we use concat isnstead."
   ]
  },
  {
   "cell_type": "markdown",
   "id": "640d8e91",
   "metadata": {},
   "source": [
    "16. Retrieve first 5 elements using .head()\n",
    "\n"
   ]
  },
  {
   "cell_type": "code",
   "execution_count": null,
   "id": "fbb7c9c4",
   "metadata": {},
   "outputs": [
    {
     "name": "stdout",
     "output_type": "stream",
     "text": [
      "First 5 elements of series15:\n",
      " 0    10\n",
      "1    20\n",
      "2    30\n",
      "3    40\n",
      "4    50\n",
      "dtype: int64\n"
     ]
    }
   ],
   "source": [
    "series15 = pd.Series([10, 20, 30, 40, 50, 60])\n",
    "first_five = series15.head(5)\n",
    "print(\"First 5 elements of series15:\\n\", first_five)"
   ]
  },
  {
   "cell_type": "markdown",
   "id": "70fddb7b",
   "metadata": {},
   "source": [
    "17. Retrieve last 5 elements using .tail()\n"
   ]
  },
  {
   "cell_type": "code",
   "execution_count": null,
   "id": "3f5216d0",
   "metadata": {},
   "outputs": [
    {
     "name": "stdout",
     "output_type": "stream",
     "text": [
      "Last 5 elements of series16:\n",
      " 1    200\n",
      "2    300\n",
      "3    400\n",
      "4    500\n",
      "5    600\n",
      "dtype: int64\n"
     ]
    }
   ],
   "source": [
    "series16 = pd.Series([100, 200, 300, 400, 500, 600])\n",
    "last_five = series16.tail(5)\n",
    "print(\"Last 5 elements of series16:\\n\", last_five)"
   ]
  },
  {
   "cell_type": "markdown",
   "id": "2294bda2",
   "metadata": {},
   "source": [
    "18. Convert Series to DataFrame.\n"
   ]
  },
  {
   "cell_type": "code",
   "execution_count": null,
   "id": "9eb542b2",
   "metadata": {},
   "outputs": [
    {
     "name": "stdout",
     "output_type": "stream",
     "text": [
      "DataFrame from Series:\n",
      "    Values\n",
      "0       1\n",
      "1       2\n",
      "2       3\n",
      "3       4\n",
      "4       5\n"
     ]
    }
   ],
   "source": [
    "series17 = pd.Series([1, 2, 3, 4, 5])\n",
    "df_from_series = series17.to_frame(name='Values')\n",
    "print(\"DataFrame from Series:\\n\", df_from_series)"
   ]
  },
  {
   "cell_type": "markdown",
   "id": "fae5cb5e",
   "metadata": {},
   "source": [
    "19. Replace NaN with 0.\n"
   ]
  },
  {
   "cell_type": "code",
   "execution_count": null,
   "id": "1e03d9b8",
   "metadata": {},
   "outputs": [
    {
     "name": "stdout",
     "output_type": "stream",
     "text": [
      "Series after replacing NaN with 0:\n",
      " 0    1.0\n",
      "1    2.0\n",
      "2    0.0\n",
      "3    4.0\n",
      "4    5.0\n",
      "dtype: float64\n"
     ]
    }
   ],
   "source": [
    "series18 = pd.Series([1, 2, None, 4, 5])\n",
    "series18_filled = series18.fillna(0)\n",
    "print(\"Series after replacing NaN with 0:\\n\", series18_filled)"
   ]
  },
  {
   "cell_type": "markdown",
   "id": "410fb0f9",
   "metadata": {},
   "source": [
    "20. Drop missing values.\n"
   ]
  },
  {
   "cell_type": "code",
   "execution_count": null,
   "id": "0018cf08",
   "metadata": {},
   "outputs": [
    {
     "name": "stdout",
     "output_type": "stream",
     "text": [
      "Series after dropping missing values:\n",
      " 0    1.0\n",
      "1    2.0\n",
      "3    4.0\n",
      "4    5.0\n",
      "dtype: float64\n"
     ]
    }
   ],
   "source": [
    "series19 = pd.Series([1, 2, None, 4, 5])\n",
    "series19_dropped = series19.dropna()\n",
    "print(\"Series after dropping missing values:\\n\", series19_dropped)"
   ]
  },
  {
   "cell_type": "markdown",
   "id": "8cd11f96",
   "metadata": {},
   "source": [
    "\n"
   ]
  },
  {
   "cell_type": "code",
   "execution_count": 18,
   "id": "16f329d9",
   "metadata": {},
   "outputs": [
    {
     "name": "stdout",
     "output_type": "stream",
     "text": [
      "Data type of series20: int64\n"
     ]
    }
   ],
   "source": [
    "series20 = pd.Series([1, 2, 3, 4, 5])\n",
    "print(\"Data type of series20:\", series20.dtype)"
   ]
  },
  {
   "cell_type": "markdown",
   "id": "4cbe802e",
   "metadata": {},
   "source": []
  }
 ],
 "metadata": {
  "kernelspec": {
   "display_name": "base",
   "language": "python",
   "name": "python3"
  },
  "language_info": {
   "codemirror_mode": {
    "name": "ipython",
    "version": 3
   },
   "file_extension": ".py",
   "mimetype": "text/x-python",
   "name": "python",
   "nbconvert_exporter": "python",
   "pygments_lexer": "ipython3",
   "version": "3.12.7"
  }
 },
 "nbformat": 4,
 "nbformat_minor": 5
}
