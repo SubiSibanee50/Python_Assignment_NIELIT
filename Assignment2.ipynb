{
 "cells": [
  {
   "cell_type": "code",
   "execution_count": null,
   "id": "50fc0621-b92e-40d3-8c5b-3ff0ff6a3858",
   "metadata": {},
   "outputs": [
    {
     "name": "stdout",
     "output_type": "stream",
     "text": [
      "5  is a prime number\n"
     ]
    }
   ],
   "source": [
    "#1:Write a program to check a number is prime or not...\n",
    "def check_prime(n):\n",
    "    if n<=1:\n",
    "        print(n,\" is not a prime number\")\n",
    "    else:\n",
    "        for i in range(2,int(n/2)+1):\n",
    "            if(n%i==0):\n",
    "                print(n,\" is not a prime number\")\n",
    "                break\n",
    "            else:\n",
    "                print(n,\" is a prime number\")\n",
    "                break\n",
    "\n",
    "n=int(input(\"Enter a number\"))\n",
    "check_prime(n)\n",
    "                \n",
    "    "
   ]
  },
  {
   "cell_type": "code",
   "execution_count": null,
   "id": "35d8cc1b-d625-4fad-a185-7e701c130275",
   "metadata": {},
   "outputs": [
    {
     "name": "stdout",
     "output_type": "stream",
     "text": [
      "Area of rectangle is :  1530.0\n"
     ]
    }
   ],
   "source": [
    "#2:Create a function to calculate the area of a rectangle...\n",
    "def area_rectangle(l,w):\n",
    "    area=l*w\n",
    "    print(\"Area of rectangle is : \",area)\n",
    "\n",
    "l=float(input(\"Enter length of rectangle\"))\n",
    "w=float(input(\"Enter width of rectangle\"))\n",
    "area_rectangle(l,w)"
   ]
  },
  {
   "cell_type": "code",
   "execution_count": null,
   "id": "ab9354ea-3a48-4d5c-92b7-f4b69e0aeda1",
   "metadata": {},
   "outputs": [
    {
     "name": "stdout",
     "output_type": "stream",
     "text": [
      "Enter the first number 5\n",
      "Enter the second number 6\n",
      "Enter the third number 8\n"
     ]
    },
    {
     "name": "stdout",
     "output_type": "stream",
     "text": [
      "8  is the largest number\n"
     ]
    }
   ],
   "source": [
    "#3:Calculate Maximum of three numbers...\n",
    "def maximum(a,b,c):\n",
    "    if(a>b and a>c):\n",
    "        print(a,\" is the largest number\")\n",
    "    else:\n",
    "        if(b>c):\n",
    "            print(b,\" is the largest number\")\n",
    "        else:\n",
    "            print(c,\" is the largest number\")\n",
    "\n",
    "a=int(input(\"Enter the first number\"))\n",
    "b=int(input(\"Enter the second number\"))\n",
    "c=int(input(\"Enter the third number\"))\n",
    "maximum(a,b,c)"
   ]
  },
  {
   "cell_type": "code",
   "execution_count": null,
   "id": "fd50495f-b160-4697-b55c-cd764e083304",
   "metadata": {},
   "outputs": [
    {
     "name": "stdout",
     "output_type": "stream",
     "text": [
      "Enter a string :  madam\n"
     ]
    },
    {
     "name": "stdout",
     "output_type": "stream",
     "text": [
      "The reverse string of the  madam  is  madam\n"
     ]
    }
   ],
   "source": [
    "#4:Reverse a string...\n",
    "def reverse_string(str):\n",
    "    rstr=str[::-1]\n",
    "    print(\"The reverse string of the \",str,\" is \",rstr)\n",
    "\n",
    "str=input(\"Enter a string : \")\n",
    "reverse_string(str)"
   ]
  },
  {
   "cell_type": "code",
   "execution_count": null,
   "id": "905f68e2-32f5-4f29-a010-49bb155d1d45",
   "metadata": {},
   "outputs": [
    {
     "name": "stdout",
     "output_type": "stream",
     "text": [
      "The number of vowels in the    is  0\n"
     ]
    }
   ],
   "source": [
    "#5:Count vowels in a string...\n",
    "def cal_vowels(str):\n",
    "    count=0\n",
    "    for char in str:\n",
    "        if char in \"aeiouAEIOU\":\n",
    "            count=count+1\n",
    "    print(\"The number of vowels in the \",str,\" is \",count)\n",
    "\n",
    "str=input(\"Enter a string : \")\n",
    "cal_vowels(str)       "
   ]
  },
  {
   "cell_type": "code",
   "execution_count": null,
   "id": "1e086e7f-e43b-4d66-bb8f-f09fa38a91b5",
   "metadata": {},
   "outputs": [
    {
     "name": "stdout",
     "output_type": "stream",
     "text": [
      "Enter a string :  eee madam eee\n"
     ]
    },
    {
     "name": "stdout",
     "output_type": "stream",
     "text": [
      "The reverse string of the  eee madam eee  is  eee madam eee\n",
      "The sting is palindrome\n"
     ]
    }
   ],
   "source": [
    "#6:Check if a string is palindrome...\n",
    "def palindrome_string(str):\n",
    "    rstr=str[::-1]\n",
    "    print(\"The reverse string of the \",str,\" is \",rstr)\n",
    "    if(str==rstr):\n",
    "        print(\"The sting is palindrome\")\n",
    "    else:\n",
    "        print(\"The string is not pallindrome\")\n",
    "\n",
    "str=input(\"Enter a string : \")\n",
    "palindrome_string(str)"
   ]
  },
  {
   "cell_type": "code",
   "execution_count": 1,
   "id": "cc9dbee8-6376-4476-8581-c7ccd30eb5d7",
   "metadata": {},
   "outputs": [
    {
     "name": "stdout",
     "output_type": "stream",
     "text": [
      "10\n"
     ]
    }
   ],
   "source": [
    "# 7. Sum of a list\n",
    "def sum_list(lst):\n",
    "    return sum(lst)\n",
    "print(sum_list([1, 2, 3, 4]))"
   ]
  },
  {
   "cell_type": "code",
   "execution_count": 2,
   "id": "0dc4686d",
   "metadata": {},
   "outputs": [
    {
     "name": "stdout",
     "output_type": "stream",
     "text": [
      "[0, 1, 1, 2, 3, 5]\n"
     ]
    }
   ],
   "source": [
    "# 8. Fibonacci sequence\n",
    "def fibonacci(n):\n",
    "    seq = [0, 1]\n",
    "    for _ in range(2, n):\n",
    "        seq.append(seq[-1] + seq[-2])\n",
    "    return seq[:n]\n",
    "print(fibonacci(6))\n"
   ]
  },
  {
   "cell_type": "code",
   "execution_count": 3,
   "id": "ed32d734",
   "metadata": {},
   "outputs": [
    {
     "name": "stdout",
     "output_type": "stream",
     "text": [
      "32.0\n"
     ]
    }
   ],
   "source": [
    "# 9. Convert Celsius to Fahrenheit\n",
    "def celsius_to_fahrenheit(c):\n",
    "    return (c * 9/5) + 32\n",
    "print(celsius_to_fahrenheit(0))"
   ]
  },
  {
   "cell_type": "code",
   "execution_count": 4,
   "id": "91665b1f",
   "metadata": {},
   "outputs": [
    {
     "name": "stdout",
     "output_type": "stream",
     "text": [
      "1\n"
     ]
    }
   ],
   "source": [
    "# 10. Minimum in a list\n",
    "def find_minimum(lst):\n",
    "    return min(lst)\n",
    "print(find_minimum([2, 1, 5]))\n"
   ]
  },
  {
   "cell_type": "code",
   "execution_count": 5,
   "id": "0b5e28c5",
   "metadata": {},
   "outputs": [
    {
     "name": "stdout",
     "output_type": "stream",
     "text": [
      "3\n"
     ]
    }
   ],
   "source": [
    "# 11. Count character in string\n",
    "def count_char(s, char):\n",
    "    return s.count(char)\n",
    "print(count_char(\"banana\", \"a\"))"
   ]
  },
  {
   "cell_type": "code",
   "execution_count": 6,
   "id": "bad7e901",
   "metadata": {},
   "outputs": [
    {
     "name": "stdout",
     "output_type": "stream",
     "text": [
      "True\n"
     ]
    }
   ],
   "source": [
    "# 12. Check perfect number\n",
    "def is_perfect_number(n):\n",
    "    return n == sum(i for i in range(1, n) if n % i == 0)\n",
    "print(is_perfect_number(28))"
   ]
  },
  {
   "cell_type": "code",
   "execution_count": 7,
   "id": "81b50384",
   "metadata": {},
   "outputs": [
    {
     "name": "stdout",
     "output_type": "stream",
     "text": [
      "6\n"
     ]
    }
   ],
   "source": [
    "# 13. Sum of digits\n",
    "def sum_of_digits(n):\n",
    "    return sum(int(d) for d in str(n))\n",
    "print(sum_of_digits(123))\n"
   ]
  },
  {
   "cell_type": "code",
   "execution_count": 8,
   "id": "73b31051",
   "metadata": {},
   "outputs": [
    {
     "name": "stdout",
     "output_type": "stream",
     "text": [
      "{'o': 1, 'l': 2, 'e': 1, 'h': 1}\n"
     ]
    }
   ],
   "source": [
    "# 14. Character frequency\n",
    "def char_frequency(s):\n",
    "    return {c: s.count(c) for c in set(s)}\n",
    "print(char_frequency(\"hello\"))"
   ]
  },
  {
   "cell_type": "code",
   "execution_count": 9,
   "id": "54c71b9c",
   "metadata": {},
   "outputs": [
    {
     "name": "stdout",
     "output_type": "stream",
     "text": [
      "20.0\n"
     ]
    }
   ],
   "source": [
    "# 15. Average of list\n",
    "def average_list(lst):\n",
    "    return sum(lst) / len(lst)\n",
    "print(average_list([10, 20, 30]))"
   ]
  },
  {
   "cell_type": "code",
   "execution_count": 10,
   "id": "78b3fdf4",
   "metadata": {},
   "outputs": [
    {
     "name": "stdout",
     "output_type": "stream",
     "text": [
      "5 x 1 = 5\n",
      "5 x 2 = 10\n",
      "5 x 3 = 15\n",
      "5 x 4 = 20\n",
      "5 x 5 = 25\n",
      "5 x 6 = 30\n",
      "5 x 7 = 35\n",
      "5 x 8 = 40\n",
      "5 x 9 = 45\n",
      "5 x 10 = 50\n"
     ]
    }
   ],
   "source": [
    "# 16. Multiplication table\n",
    "def print_table(n):\n",
    "    for i in range(1, 11):\n",
    "        print(f\"{n} x {i} = {n*i}\")\n",
    "print_table(5)\n"
   ]
  },
  {
   "cell_type": "code",
   "execution_count": 11,
   "id": "6dcb2ca6",
   "metadata": {},
   "outputs": [
    {
     "name": "stdout",
     "output_type": "stream",
     "text": [
      "[3, 2, 1]\n"
     ]
    }
   ],
   "source": [
    "# 17. Reverse a list\n",
    "def reverse_list(lst):\n",
    "    return lst[::-1]\n",
    "print(reverse_list([1, 2, 3]))"
   ]
  },
  {
   "cell_type": "code",
   "execution_count": 12,
   "id": "cb9822ee",
   "metadata": {},
   "outputs": [
    {
     "name": "stdout",
     "output_type": "stream",
     "text": [
      "30\n"
     ]
    }
   ],
   "source": [
    "# 18. Second largest in list\n",
    "def second_largest(lst):\n",
    "    return sorted(set(lst))[-2]\n",
    "print(second_largest([10, 20, 30, 40]))"
   ]
  },
  {
   "cell_type": "code",
   "execution_count": 13,
   "id": "6fb2be33",
   "metadata": {},
   "outputs": [
    {
     "name": "stdout",
     "output_type": "stream",
     "text": [
      "[2, 4]\n"
     ]
    }
   ],
   "source": [
    "# 19. Filter even numbers\n",
    "def filter_even(lst):\n",
    "    return [x for x in lst if x % 2 == 0]\n",
    "print(filter_even([1, 2, 3, 4]))"
   ]
  },
  {
   "cell_type": "code",
   "execution_count": 14,
   "id": "797eb7c7",
   "metadata": {},
   "outputs": [
    {
     "name": "stdout",
     "output_type": "stream",
     "text": [
      "True\n"
     ]
    }
   ],
   "source": [
    "# 20. Unique characters\n",
    "def all_unique(s):\n",
    "    return len(set(s)) == len(s)\n",
    "print(all_unique(\"abc\"))"
   ]
  },
  {
   "cell_type": "code",
   "execution_count": 15,
   "id": "01906473",
   "metadata": {},
   "outputs": [
    {
     "name": "stdout",
     "output_type": "stream",
     "text": [
      "6\n"
     ]
    }
   ],
   "source": [
    "# 21. GCD of two numbers\n",
    "def gcd(a, b):\n",
    "    while b:\n",
    "        a, b = b, a % b\n",
    "    return a\n",
    "print(gcd(12, 18))"
   ]
  },
  {
   "cell_type": "code",
   "execution_count": 16,
   "id": "a0a2863c",
   "metadata": {},
   "outputs": [
    {
     "name": "stdout",
     "output_type": "stream",
     "text": [
      "12\n"
     ]
    }
   ],
   "source": [
    "# 22. LCM of two numbers\n",
    "def lcm(a, b):\n",
    "    return abs(a*b) // gcd(a, b)\n",
    "print(lcm(4, 6))\n"
   ]
  },
  {
   "cell_type": "code",
   "execution_count": 17,
   "id": "b7a6f9a0",
   "metadata": {},
   "outputs": [
    {
     "name": "stdout",
     "output_type": "stream",
     "text": [
      "[1, 2, 3]\n"
     ]
    }
   ],
   "source": [
    "# 23. Remove duplicates\n",
    "def remove_duplicates(lst):\n",
    "    return list(set(lst))\n",
    "print(remove_duplicates([1, 2, 2, 3]))"
   ]
  },
  {
   "cell_type": "code",
   "execution_count": 19,
   "id": "a37ecd57",
   "metadata": {},
   "outputs": [
    {
     "name": "stdout",
     "output_type": "stream",
     "text": [
      "120\n"
     ]
    }
   ],
   "source": [
    "# 24. Factorial using recursion\n",
    "def factorial(n):\n",
    "    if n == 0: return 1\n",
    "    return n * factorial(n - 1)\n",
    "print(factorial(5))"
   ]
  },
  {
   "cell_type": "code",
   "execution_count": 20,
   "id": "50492e01",
   "metadata": {},
   "outputs": [
    {
     "name": "stdout",
     "output_type": "stream",
     "text": [
      "True\n"
     ]
    }
   ],
   "source": [
    "# 25. Check Armstrong number\n",
    "def is_armstrong(n):\n",
    "    return n == sum(int(d)**len(str(n)) for d in str(n))\n",
    "print(is_armstrong(153))\n"
   ]
  },
  {
   "cell_type": "code",
   "execution_count": 39,
   "id": "5d3ac3d6",
   "metadata": {},
   "outputs": [
    {
     "name": "stdout",
     "output_type": "stream",
     "text": [
      "[2, 3, 5, 7, 11, 13, 17, 19]\n"
     ]
    }
   ],
   "source": [
    "# 26. Prime numbers up to n\n",
    "def prime_numbers_up_to(n):\n",
    "    primes = []\n",
    "    for num in range(2, n + 1):\n",
    "        is_prime = True\n",
    "        for i in range(2, int(num**0.5) + 1):\n",
    "            if num % i == 0:\n",
    "                is_prime = False\n",
    "                break\n",
    "        if is_prime:\n",
    "            primes.append(num)\n",
    "    return primes\n",
    "print(prime_numbers_up_to(20))"
   ]
  },
  {
   "cell_type": "code",
   "execution_count": 23,
   "id": "ea3526a6",
   "metadata": {},
   "outputs": [
    {
     "name": "stdout",
     "output_type": "stream",
     "text": [
      "sentence\n"
     ]
    }
   ],
   "source": [
    "# 27. Longest word in sentence\n",
    "def longest_word(sentence):\n",
    "    return max(sentence.split(), key=len)\n",
    "print(longest_word(\"This is a sample sentence\"))"
   ]
  },
  {
   "cell_type": "code",
   "execution_count": 24,
   "id": "fe97ce4a",
   "metadata": {},
   "outputs": [
    {
     "name": "stdout",
     "output_type": "stream",
     "text": [
      "8\n"
     ]
    }
   ],
   "source": [
    "# 28. Power using recursion\n",
    "def power(x, y):\n",
    "    if y == 0: return 1\n",
    "    return x * power(x, y - 1)\n",
    "print(power(2, 3))"
   ]
  },
  {
   "cell_type": "code",
   "execution_count": 25,
   "id": "94db9db6",
   "metadata": {},
   "outputs": [
    {
     "name": "stdout",
     "output_type": "stream",
     "text": [
      "[1, 2, 3, 4, 5]\n"
     ]
    }
   ],
   "source": [
    "# 29. Flatten nested list\n",
    "def flatten(lst):\n",
    "    result = []\n",
    "    for i in lst:\n",
    "        if isinstance(i, list):\n",
    "            result.extend(flatten(i))\n",
    "        else:\n",
    "            result.append(i)\n",
    "    return result\n",
    "print(flatten([1, [2, [3, 4]], 5]))"
   ]
  },
  {
   "cell_type": "code",
   "execution_count": 26,
   "id": "a6708a63",
   "metadata": {},
   "outputs": [
    {
     "name": "stdout",
     "output_type": "stream",
     "text": [
      "True\n"
     ]
    }
   ],
   "source": [
    "# 30. Check if list is sorted\n",
    "def is_sorted(lst):\n",
    "    return lst == sorted(lst)\n",
    "print(is_sorted([1, 2, 3]))"
   ]
  },
  {
   "cell_type": "code",
   "execution_count": 27,
   "id": "cebec097",
   "metadata": {},
   "outputs": [
    {
     "name": "stdout",
     "output_type": "stream",
     "text": [
      "[1, 2, 3, 4]\n"
     ]
    }
   ],
   "source": [
    "# 31. Merge two sorted lists\n",
    "def merge_sorted_lists(lst1, lst2):\n",
    "    return sorted(lst1 + lst2)\n",
    "print(merge_sorted_lists([1, 3], [2, 4]))"
   ]
  },
  {
   "cell_type": "code",
   "execution_count": 28,
   "id": "44823a50",
   "metadata": {},
   "outputs": [
    {
     "name": "stdout",
     "output_type": "stream",
     "text": [
      "2\n"
     ]
    }
   ],
   "source": [
    "# 32. Most frequent element\n",
    "def most_frequent(lst):\n",
    "    return max(set(lst), key=lst.count)\n",
    "print(most_frequent([1, 2, 2, 3, 2]))"
   ]
  },
  {
   "cell_type": "code",
   "execution_count": 29,
   "id": "fcd975a3",
   "metadata": {},
   "outputs": [
    {
     "name": "stdout",
     "output_type": "stream",
     "text": [
      "2\n"
     ]
    }
   ],
   "source": [
    "# 33. Median of list\n",
    "def median(lst):\n",
    "    lst.sort()\n",
    "    n = len(lst)\n",
    "    mid = n // 2\n",
    "    return lst[mid] if n % 2 else (lst[mid-1] + lst[mid]) / 2\n",
    "print(median([1, 3, 2]))"
   ]
  },
  {
   "cell_type": "code",
   "execution_count": 30,
   "id": "8700d30c",
   "metadata": {},
   "outputs": [
    {
     "name": "stdout",
     "output_type": "stream",
     "text": [
      "[2, 3]\n"
     ]
    }
   ],
   "source": [
    "# 34. Intersection of two lists\n",
    "def intersection(lst1, lst2):\n",
    "    return list(set(lst1) & set(lst2))\n",
    "print(intersection([1, 2, 3], [2, 3, 4]))"
   ]
  },
  {
   "cell_type": "code",
   "execution_count": 31,
   "id": "6f7c47d0",
   "metadata": {},
   "outputs": [
    {
     "name": "stdout",
     "output_type": "stream",
     "text": [
      "24\n"
     ]
    }
   ],
   "source": [
    "# 35. Product of variable arguments\n",
    "def product_of_args(*args):\n",
    "    result = 1\n",
    "    for num in args:\n",
    "        result *= num\n",
    "    return result\n",
    "print(product_of_args(2, 3, 4))\n"
   ]
  },
  {
   "cell_type": "code",
   "execution_count": 32,
   "id": "76534d66",
   "metadata": {},
   "outputs": [
    {
     "name": "stdout",
     "output_type": "stream",
     "text": [
      "[(0, 'a'), (1, 'b'), (2, 'c')]\n"
     ]
    }
   ],
   "source": [
    "# 36. List of tuples (element, index)\n",
    "def index_elements(lst):\n",
    "    return list(enumerate(lst))\n",
    "print(index_elements(['a', 'b', 'c']))\n"
   ]
  },
  {
   "cell_type": "code",
   "execution_count": 33,
   "id": "2a9ee6ec",
   "metadata": {},
   "outputs": [
    {
     "name": "stdout",
     "output_type": "stream",
     "text": [
      "{'this': 2, 'a': 1, 'is': 2, 'test': 1}\n"
     ]
    }
   ],
   "source": [
    "# 37. Dictionary of word counts\n",
    "def word_count(s):\n",
    "    words = s.split()\n",
    "    return {word: words.count(word) for word in set(words)}\n",
    "print(word_count(\"this is a test this is\"))"
   ]
  },
  {
   "cell_type": "code",
   "execution_count": 34,
   "id": "e809c0d9",
   "metadata": {},
   "outputs": [
    {
     "name": "stdout",
     "output_type": "stream",
     "text": [
      "True\n"
     ]
    }
   ],
   "source": [
    "# 38. Check pangram\n",
    "def is_pangram(s):\n",
    "    return set('abcdefghijklmnopqrstuvwxyz').issubset(s.lower())\n",
    "print(is_pangram(\"The quick brown fox jumps over the lazy dog\"))\n"
   ]
  },
  {
   "cell_type": "code",
   "execution_count": 35,
   "id": "b540ccf5",
   "metadata": {},
   "outputs": [
    {
     "name": "stdout",
     "output_type": "stream",
     "text": [
      "1\n"
     ]
    }
   ],
   "source": [
    "# 39. Find index of value in list\n",
    "def find_index(lst, value):\n",
    "    return lst.index(value) if value in lst else -1\n",
    "print(find_index([10, 20, 30], 20))\n"
   ]
  },
  {
   "cell_type": "code",
   "execution_count": 2,
   "id": "73713879",
   "metadata": {},
   "outputs": [
    {
     "name": "stdout",
     "output_type": "stream",
     "text": [
      "Upper: 2 Lower: 8\n"
     ]
    }
   ],
   "source": [
    "# 40. Count uppercase and lowercase\n",
    "def count_case(s):\n",
    "    upper = 0\n",
    "    lower = 0\n",
    "    for char in s:\n",
    "        if char.isupper():\n",
    "            upper+=1\n",
    "        elif char.islower():\n",
    "            lower+=1\n",
    "    print(\"Upper:\", upper, \"Lower:\", lower)\n",
    "\n",
    "s=\"Hello World!\" \n",
    "count_case(s)"
   ]
  }
 ],
 "metadata": {
  "kernelspec": {
   "display_name": "base",
   "language": "python",
   "name": "python3"
  },
  "language_info": {
   "codemirror_mode": {
    "name": "ipython",
    "version": 3
   },
   "file_extension": ".py",
   "mimetype": "text/x-python",
   "name": "python",
   "nbconvert_exporter": "python",
   "pygments_lexer": "ipython3",
   "version": "3.12.7"
  }
 },
 "nbformat": 4,
 "nbformat_minor": 5
}
